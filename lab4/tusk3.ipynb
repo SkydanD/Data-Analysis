{
 "cells": [
  {
   "cell_type": "code",
   "execution_count": null,
   "metadata": {},
   "outputs": [],
   "source": [
    "#pip install transformers\n",
    "PS C:\\Users\\User> pip install opencv-python\n",
    "Collecting opencv-python\n",
    "  Downloading opencv_python-4.7.0.68-cp37-abi3-win_amd64.whl (38.2 MB)\n",
    "     |████████████████████████████████| 38.2 MB 6.4 MB/s\n",
    "Requirement already satisfied: numpy>=1.17.0; python_version >= \"3.7\" in c:\\users\\user\\appdata\\local\\programs\\python\\python38\\lib\\site-packages (from opencv-python) (1.24.1)\n",
    "Installing collected packages: opencv-python\n",
    "Successfully installed opencv-python-4.7.0.68\n",
    "WARNING: You are using pip version 20.2.3; however, version 22.3.1 is available.\n",
    "You should consider upgrading via the 'c:\\users\\user\\appdata\\local\\programs\\python\\python38\\python.exe -m pip install --upgrade pip' command.\n",
    "PS C:\\Users\\User> pip install graphviz\n",
    "Collecting graphviz\n",
    "  Downloading graphviz-0.20.1-py3-none-any.whl (47 kB)\n",
    "     |████████████████████████████████| 47 kB 1.2 MB/s \n",
    "Installing collected packages: graphviz\n",
    "Successfully installed graphviz-0.20.1\n",
    "WARNING: You are using pip version 20.2.3; however, version 22.3.1 is available.\n",
    "You should consider upgrading via the 'c:\\users\\user\\appdata\\local\\programs\\python\\python38\\python.exe -m pip install --upgrade pip' command.\n",
    "PS C:\\Users\\User> pip install --upgrade iuliia\n",
    "Collecting iuliia\n",
    "  Downloading iuliia-0.11.5-py3-none-any.whl (35 kB)\n",
    "Installing collected packages: iuliia\n",
    "Successfully installed iuliia-0.11.5\n",
    "WARNING: You are using pip version 20.2.3; however, version 22.3.1 is available.\n",
    "You should consider upgrading via the 'c:\\users\\user\\appdata\\local\\programs\\python\\python38\\python.exe -m pip install --upgrade pip' command.\n",
    "PS C:\\Users\\User> pip install transformers\n",
    "Collecting transformers\n",
    "  Downloading transformers-4.26.0-py3-none-any.whl (6.3 MB)\n",
    "     |████████████████████████████████| 6.3 MB 2.2 MB/s\n",
    "Requirement already satisfied: requests in c:\\users\\user\\appdata\\local\\programs\\python\\python38\\lib\\site-packages (from transformers) (2.28.2)\n",
    "Collecting filelock\n",
    "  Downloading filelock-3.9.0-py3-none-any.whl (9.7 kB)\n",
    "Requirement already satisfied: packaging>=20.0 in c:\\users\\user\\appdata\\local\\programs\\python\\python38\\lib\\site-packages (from transformers) (23.0)\n",
    "Collecting regex!=2019.12.17\n",
    "  Downloading regex-2022.10.31-cp38-cp38-win_amd64.whl (267 kB)\n",
    "     |████████████████████████████████| 267 kB 3.2 MB/s\n",
    "Collecting pyyaml>=5.1\n",
    "  Downloading PyYAML-6.0-cp38-cp38-win_amd64.whl (155 kB)\n",
    "     |████████████████████████████████| 155 kB ...\n",
    "Collecting tqdm>=4.27\n",
    "  Downloading tqdm-4.64.1-py2.py3-none-any.whl (78 kB)\n",
    "     |████████████████████████████████| 78 kB 5.1 MB/s\n",
    "Collecting huggingface-hub<1.0,>=0.11.0\n",
    "  Downloading huggingface_hub-0.12.0-py3-none-any.whl (190 kB)\n",
    "     |████████████████████████████████| 190 kB ...\n",
    "Requirement already satisfied: numpy>=1.17 in c:\\users\\user\\appdata\\local\\programs\\python\\python38\\lib\\site-packages (from transformers) (1.24.1)\n",
    "Collecting tokenizers!=0.11.3,<0.14,>=0.11.1\n",
    "  Downloading tokenizers-0.13.2-cp38-cp38-win_amd64.whl (3.3 MB)\n",
    "     |████████████████████████████████| 3.3 MB 6.8 MB/s\n",
    "Requirement already satisfied: idna<4,>=2.5 in c:\\users\\user\\appdata\\local\\programs\\python\\python38\\lib\\site-packages (from requests->transformers) (3.4)\n",
    "Requirement already satisfied: urllib3<1.27,>=1.21.1 in c:\\users\\user\\appdata\\local\\programs\\python\\python38\\lib\\site-packages (from requests->transformers) (1.26.14)\n",
    "Requirement already satisfied: charset-normalizer<4,>=2 in c:\\users\\user\\appdata\\local\\programs\\python\\python38\\lib\\site-packages (from requests->transformers) (3.0.1)\n",
    "Requirement already satisfied: certifi>=2017.4.17 in c:\\users\\user\\appdata\\local\\programs\\python\\python38\\lib\\site-packages (from requests->transformers) (2022.12.7)\n",
    "Requirement already satisfied: colorama; platform_system == \"Windows\" in c:\\users\\user\\appdata\\roaming\\python\\python38\\site-packages (from tqdm>=4.27->transformers) (0.4.6)\n",
    "Requirement already satisfied: typing-extensions>=3.7.4.3 in c:\\users\\user\\appdata\\local\\programs\\python\\python38\\lib\\site-packages (from huggingface-hub<1.0,>=0.11.0->transformers) (4.4.0)\n",
    "Installing collected packages: filelock, regex, pyyaml, tqdm, huggingface-hub, tokenizers, transformers\n",
    "Successfully installed filelock-3.9.0 huggingface-hub-0.12.0 pyyaml-6.0 regex-2022.10.31 tokenizers-0.13.2 tqdm-4.64.1 transformers-4.26.0\n",
    "WARNING: You are using pip version 20.2.3; however, version 22.3.1 is available.\n",
    "You should consider upgrading via the 'c:\\users\\user\\appdata\\local\\programs\\python\\python38\\python.exe -m pip install --upgrade pip' command."
   ]
  },
  {
   "cell_type": "code",
   "execution_count": 2,
   "metadata": {},
   "outputs": [
    {
     "name": "stderr",
     "output_type": "stream",
     "text": [
      "c:\\Users\\User\\AppData\\Local\\Programs\\Python\\Python38\\lib\\site-packages\\tqdm\\auto.py:22: TqdmWarning: IProgress not found. Please update jupyter and ipywidgets. See https://ipywidgets.readthedocs.io/en/stable/user_install.html\n",
      "  from .autonotebook import tqdm as notebook_tqdm\n",
      "No model was supplied, defaulted to distilbert-base-uncased-finetuned-sst-2-english and revision af0f99b (https://huggingface.co/distilbert-base-uncased-finetuned-sst-2-english).\n",
      "Using a pipeline without specifying a model name and revision in production is not recommended.\n",
      "All model checkpoint layers were used when initializing TFDistilBertForSequenceClassification.\n",
      "\n",
      "All the layers of TFDistilBertForSequenceClassification were initialized from the model checkpoint at distilbert-base-uncased-finetuned-sst-2-english.\n",
      "If your task is similar to the task the model of the checkpoint was trained on, you can already use TFDistilBertForSequenceClassification for predictions without further training.\n"
     ]
    }
   ],
   "source": [
    "from transformers import pipeline\n",
    "classifier = pipeline('sentiment-analysis')"
   ]
  },
  {
   "cell_type": "code",
   "execution_count": 3,
   "metadata": {},
   "outputs": [
    {
     "data": {
      "text/plain": [
       "[{'label': 'POSITIVE', 'score': 0.9689861536026001}]"
      ]
     },
     "execution_count": 3,
     "metadata": {},
     "output_type": "execute_result"
    }
   ],
   "source": [
    "\n",
    "txt_1 = 'kono giorno giovanna niwa yume ga aru'\n",
    "classifier(txt_1)\n",
    "     "
   ]
  },
  {
   "cell_type": "code",
   "execution_count": 3,
   "metadata": {},
   "outputs": [
    {
     "data": {
      "text/plain": [
       "[{'label': 'NEGATIVE', 'score': 0.7787470817565918}]"
      ]
     },
     "execution_count": 3,
     "metadata": {},
     "output_type": "execute_result"
    }
   ],
   "source": [
    "\n",
    "txt_2 = ' Nigetsu ni kono DIO ni chikazuite kuruno ka'\n",
    "classifier(txt_2)"
   ]
  },
  {
   "cell_type": "code",
   "execution_count": 4,
   "metadata": {},
   "outputs": [
    {
     "data": {
      "text/plain": [
       "[{'label': 'NEGATIVE', 'score': 0.9731787443161011}]"
      ]
     },
     "execution_count": 4,
     "metadata": {},
     "output_type": "execute_result"
    }
   ],
   "source": [
    "txt_3 = 'Omae wa kono Dio ni totte no monkīna nda yo JoJooooo'\n",
    "classifier(txt_3)\n",
    "     "
   ]
  }
 ],
 "metadata": {
  "kernelspec": {
   "display_name": "Python 3",
   "language": "python",
   "name": "python3"
  },
  "language_info": {
   "codemirror_mode": {
    "name": "ipython",
    "version": 3
   },
   "file_extension": ".py",
   "mimetype": "text/x-python",
   "name": "python",
   "nbconvert_exporter": "python",
   "pygments_lexer": "ipython3",
   "version": "3.8.7"
  },
  "orig_nbformat": 4,
  "vscode": {
   "interpreter": {
    "hash": "f544ce1a915a9875fad91c894e2c0bcad4b7a79945aa6027ef3ad27810072aa6"
   }
  }
 },
 "nbformat": 4,
 "nbformat_minor": 2
}
